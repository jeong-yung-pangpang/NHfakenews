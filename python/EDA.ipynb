{
  "nbformat": 4,
  "nbformat_minor": 0,
  "metadata": {
    "colab": {
      "name": "EDA.ipynb",
      "provenance": [],
      "collapsed_sections": []
    },
    "kernelspec": {
      "name": "python3",
      "display_name": "Python 3"
    }
  },
  "cells": [
    {
      "cell_type": "code",
      "metadata": {
        "colab": {
          "base_uri": "https://localhost:8080/"
        },
        "id": "ZrYA9UGExroB",
        "outputId": "930e8cf7-84cd-488e-d06d-3e278f2f36f4"
      },
      "source": [
        "!pip install konlpy"
      ],
      "execution_count": null,
      "outputs": [
        {
          "output_type": "stream",
          "text": [
            "Collecting konlpy\n",
            "\u001b[?25l  Downloading https://files.pythonhosted.org/packages/85/0e/f385566fec837c0b83f216b2da65db9997b35dd675e107752005b7d392b1/konlpy-0.5.2-py2.py3-none-any.whl (19.4MB)\n",
            "\u001b[K     |████████████████████████████████| 19.4MB 1.3MB/s \n",
            "\u001b[?25hRequirement already satisfied: lxml>=4.1.0 in /usr/local/lib/python3.6/dist-packages (from konlpy) (4.2.6)\n",
            "Collecting tweepy>=3.7.0\n",
            "  Downloading https://files.pythonhosted.org/packages/67/c3/6bed87f3b1e5ed2f34bd58bf7978e308c86e255193916be76e5a5ce5dfca/tweepy-3.10.0-py2.py3-none-any.whl\n",
            "Requirement already satisfied: numpy>=1.6 in /usr/local/lib/python3.6/dist-packages (from konlpy) (1.19.5)\n",
            "Collecting colorama\n",
            "  Downloading https://files.pythonhosted.org/packages/44/98/5b86278fbbf250d239ae0ecb724f8572af1c91f4a11edf4d36a206189440/colorama-0.4.4-py2.py3-none-any.whl\n",
            "Collecting beautifulsoup4==4.6.0\n",
            "\u001b[?25l  Downloading https://files.pythonhosted.org/packages/9e/d4/10f46e5cfac773e22707237bfcd51bbffeaf0a576b0a847ec7ab15bd7ace/beautifulsoup4-4.6.0-py3-none-any.whl (86kB)\n",
            "\u001b[K     |████████████████████████████████| 92kB 9.1MB/s \n",
            "\u001b[?25hCollecting JPype1>=0.7.0\n",
            "\u001b[?25l  Downloading https://files.pythonhosted.org/packages/de/af/93f92b38ec1ff3091cd38982ed19cea2800fefb609b5801c41fc43c0781e/JPype1-1.2.1-cp36-cp36m-manylinux2010_x86_64.whl (457kB)\n",
            "\u001b[K     |████████████████████████████████| 460kB 53.3MB/s \n",
            "\u001b[?25hRequirement already satisfied: six>=1.10.0 in /usr/local/lib/python3.6/dist-packages (from tweepy>=3.7.0->konlpy) (1.15.0)\n",
            "Requirement already satisfied: requests-oauthlib>=0.7.0 in /usr/local/lib/python3.6/dist-packages (from tweepy>=3.7.0->konlpy) (1.3.0)\n",
            "Requirement already satisfied: requests[socks]>=2.11.1 in /usr/local/lib/python3.6/dist-packages (from tweepy>=3.7.0->konlpy) (2.23.0)\n",
            "Requirement already satisfied: typing-extensions; python_version < \"3.8\" in /usr/local/lib/python3.6/dist-packages (from JPype1>=0.7.0->konlpy) (3.7.4.3)\n",
            "Requirement already satisfied: oauthlib>=3.0.0 in /usr/local/lib/python3.6/dist-packages (from requests-oauthlib>=0.7.0->tweepy>=3.7.0->konlpy) (3.1.0)\n",
            "Requirement already satisfied: urllib3!=1.25.0,!=1.25.1,<1.26,>=1.21.1 in /usr/local/lib/python3.6/dist-packages (from requests[socks]>=2.11.1->tweepy>=3.7.0->konlpy) (1.24.3)\n",
            "Requirement already satisfied: certifi>=2017.4.17 in /usr/local/lib/python3.6/dist-packages (from requests[socks]>=2.11.1->tweepy>=3.7.0->konlpy) (2020.12.5)\n",
            "Requirement already satisfied: chardet<4,>=3.0.2 in /usr/local/lib/python3.6/dist-packages (from requests[socks]>=2.11.1->tweepy>=3.7.0->konlpy) (3.0.4)\n",
            "Requirement already satisfied: idna<3,>=2.5 in /usr/local/lib/python3.6/dist-packages (from requests[socks]>=2.11.1->tweepy>=3.7.0->konlpy) (2.10)\n",
            "Requirement already satisfied: PySocks!=1.5.7,>=1.5.6; extra == \"socks\" in /usr/local/lib/python3.6/dist-packages (from requests[socks]>=2.11.1->tweepy>=3.7.0->konlpy) (1.7.1)\n",
            "Installing collected packages: tweepy, colorama, beautifulsoup4, JPype1, konlpy\n",
            "  Found existing installation: tweepy 3.6.0\n",
            "    Uninstalling tweepy-3.6.0:\n",
            "      Successfully uninstalled tweepy-3.6.0\n",
            "  Found existing installation: beautifulsoup4 4.6.3\n",
            "    Uninstalling beautifulsoup4-4.6.3:\n",
            "      Successfully uninstalled beautifulsoup4-4.6.3\n",
            "Successfully installed JPype1-1.2.1 beautifulsoup4-4.6.0 colorama-0.4.4 konlpy-0.5.2 tweepy-3.10.0\n"
          ],
          "name": "stdout"
        }
      ]
    },
    {
      "cell_type": "code",
      "metadata": {
        "id": "uvNk2CKVxobm"
      },
      "source": [
        "import numpy as np\r\n",
        "import pandas as pd\r\n",
        "import re\r\n",
        "from konlpy.tag import Okt\r\n",
        "import tensorflow as tf"
      ],
      "execution_count": null,
      "outputs": []
    },
    {
      "cell_type": "code",
      "metadata": {
        "colab": {
          "base_uri": "https://localhost:8080/"
        },
        "id": "90SDK1u5flrG",
        "outputId": "31b59946-0295-4574-f7af-20fadbbac3c4"
      },
      "source": [
        "from google.colab import drive\r\n",
        "drive.mount('/content/drive')\r\n",
        "Train = pd.read_csv('/content/drive/MyDrive/datasets/news_train.csv')\r\n",
        "Test = pd.read_csv('/content/drive/MyDrive/datasets/news_test.csv')"
      ],
      "execution_count": null,
      "outputs": [
        {
          "output_type": "stream",
          "text": [
            "Mounted at /content/drive\n"
          ],
          "name": "stdout"
        }
      ]
    },
    {
      "cell_type": "code",
      "metadata": {
        "id": "87YjBDlRfnWa"
      },
      "source": [
        "import matplotlib.pyplot as plt\r\n",
        "import os\r\n",
        "import seaborn as sns\r\n",
        "%matplotlib inline"
      ],
      "execution_count": null,
      "outputs": []
    },
    {
      "cell_type": "code",
      "metadata": {
        "colab": {
          "base_uri": "https://localhost:8080/"
        },
        "id": "eq45vT96fxE1",
        "outputId": "d7dc8f6e-aab8-4fd4-c303-e9e3129960b1"
      },
      "source": [
        "print(len(Train))\r\n",
        "print(len(Test))"
      ],
      "execution_count": null,
      "outputs": [
        {
          "output_type": "stream",
          "text": [
            "118745\n",
            "142565\n"
          ],
          "name": "stdout"
        }
      ]
    },
    {
      "cell_type": "code",
      "metadata": {
        "colab": {
          "base_uri": "https://localhost:8080/"
        },
        "id": "MQH39wqJfxsU",
        "outputId": "a06a2591-38d3-490e-c949-190da9a10eea"
      },
      "source": [
        "# 결측치 확인\r\n",
        "Train.isnull().sum()"
      ],
      "execution_count": null,
      "outputs": [
        {
          "output_type": "execute_result",
          "data": {
            "text/plain": [
              "n_id       0\n",
              "date       0\n",
              "title      0\n",
              "content    0\n",
              "ord        0\n",
              "info       0\n",
              "dtype: int64"
            ]
          },
          "metadata": {
            "tags": []
          },
          "execution_count": 7
        }
      ]
    },
    {
      "cell_type": "code",
      "metadata": {
        "colab": {
          "base_uri": "https://localhost:8080/"
        },
        "id": "sZrFnzz3f2SR",
        "outputId": "671ce356-bc43-4f2e-a261-297bc065657b"
      },
      "source": [
        "Test.isnull().sum()"
      ],
      "execution_count": null,
      "outputs": [
        {
          "output_type": "execute_result",
          "data": {
            "text/plain": [
              "n_id       0\n",
              "date       0\n",
              "title      0\n",
              "content    0\n",
              "ord        0\n",
              "id         0\n",
              "dtype: int64"
            ]
          },
          "metadata": {
            "tags": []
          },
          "execution_count": 8
        }
      ]
    },
    {
      "cell_type": "code",
      "metadata": {
        "colab": {
          "base_uri": "https://localhost:8080/"
        },
        "id": "V3gry_v9f3dm",
        "outputId": "a6079ef5-f73a-4cea-cb0e-78d9404b009b"
      },
      "source": [
        "Train.info()"
      ],
      "execution_count": null,
      "outputs": [
        {
          "output_type": "stream",
          "text": [
            "<class 'pandas.core.frame.DataFrame'>\n",
            "RangeIndex: 118745 entries, 0 to 118744\n",
            "Data columns (total 6 columns):\n",
            " #   Column   Non-Null Count   Dtype \n",
            "---  ------   --------------   ----- \n",
            " 0   n_id     118745 non-null  object\n",
            " 1   date     118745 non-null  int64 \n",
            " 2   title    118745 non-null  object\n",
            " 3   content  118745 non-null  object\n",
            " 4   ord      118745 non-null  int64 \n",
            " 5   info     118745 non-null  int64 \n",
            "dtypes: int64(3), object(3)\n",
            "memory usage: 5.4+ MB\n"
          ],
          "name": "stdout"
        }
      ]
    },
    {
      "cell_type": "code",
      "metadata": {
        "colab": {
          "base_uri": "https://localhost:8080/"
        },
        "id": "RXdpe2xHf62h",
        "outputId": "665237c7-d99d-4c8b-b3c5-8435f44b13bf"
      },
      "source": [
        "Test.info()"
      ],
      "execution_count": null,
      "outputs": [
        {
          "output_type": "stream",
          "text": [
            "<class 'pandas.core.frame.DataFrame'>\n",
            "RangeIndex: 142565 entries, 0 to 142564\n",
            "Data columns (total 6 columns):\n",
            " #   Column   Non-Null Count   Dtype \n",
            "---  ------   --------------   ----- \n",
            " 0   n_id     142565 non-null  object\n",
            " 1   date     142565 non-null  int64 \n",
            " 2   title    142565 non-null  object\n",
            " 3   content  142565 non-null  object\n",
            " 4   ord      142565 non-null  int64 \n",
            " 5   id       142565 non-null  object\n",
            "dtypes: int64(2), object(4)\n",
            "memory usage: 6.5+ MB\n"
          ],
          "name": "stdout"
        }
      ]
    },
    {
      "cell_type": "code",
      "metadata": {
        "colab": {
          "base_uri": "https://localhost:8080/"
        },
        "id": "lpcxP9DSf8tP",
        "outputId": "74150945-0466-4f5b-b115-532f2f0b6419"
      },
      "source": [
        "train_lenght = Train['content'].apply(len)\r\n",
        "train_lenght.head()"
      ],
      "execution_count": null,
      "outputs": [
        {
          "output_type": "execute_result",
          "data": {
            "text/plain": [
              "0    42\n",
              "1    37\n",
              "2    33\n",
              "3    32\n",
              "4    20\n",
              "Name: content, dtype: int64"
            ]
          },
          "metadata": {
            "tags": []
          },
          "execution_count": 12
        }
      ]
    },
    {
      "cell_type": "code",
      "metadata": {
        "colab": {
          "base_uri": "https://localhost:8080/",
          "height": 368
        },
        "id": "Q_XWpD7gf-hs",
        "outputId": "3f35fd74-3c04-4204-e96e-fea4b05b0341"
      },
      "source": [
        "plt.figure(figsize=(12,5))\r\n",
        "\r\n",
        "plt.hist(train_lenght, bins=200, alpha=0.5, color='r', label='word')\r\n",
        "plt.yscale('log', nonposy='clip')\r\n",
        "plt.title('Log-Histogram of length of content')\r\n",
        "plt.xlabel('Length of content')\r\n",
        "plt.ylabel('Number of content')"
      ],
      "execution_count": null,
      "outputs": [
        {
          "output_type": "execute_result",
          "data": {
            "text/plain": [
              "Text(0, 0.5, 'Number of content')"
            ]
          },
          "metadata": {
            "tags": []
          },
          "execution_count": 13
        },
        {
          "output_type": "display_data",
          "data": {
            "image/png": "[encoded data removed]",
            "text/plain": [
              "<Figure size 864x360 with 1 Axes>"
            ]
          },
          "metadata": {
            "tags": [],
            "needs_background": "light"
          }
        }
      ]
    },
    {
      "cell_type": "code",
      "metadata": {
        "colab": {
          "base_uri": "https://localhost:8080/"
        },
        "id": "rTwEY9kJf_3V",
        "outputId": "fac2ee84-ada0-4053-8512-15a32093ab99"
      },
      "source": [
        "print('content 길이 최댓값: {}'.format(np.max(train_lenght)))\r\n",
        "print('content 길이 최솟값: {}'.format(np.min(train_lenght)))\r\n",
        "print('content 길이 평균값: {:.2f}'.format(np.mean(train_lenght)))\r\n",
        "print('content 길이 표준편차: {:.2f}'.format(np.std(train_lenght)))\r\n",
        "print('content 길이 중간값: {}'.format(np.median(train_lenght)))\r\n",
        "print('content 길이 제1사분위: {}'.format(np.percentile(train_lenght, 25)))\r\n",
        "print('content 길이 제3사분위: {}'.format(np.percentile(train_lenght, 75)))"
      ],
      "execution_count": null,
      "outputs": [
        {
          "output_type": "stream",
          "text": [
            "content 길이 최댓값: 3469\n",
            "content 길이 최솟값: 2\n",
            "content 길이 평균값: 51.33\n",
            "content 길이 표준편차: 38.72\n",
            "content 길이 중간값: 39.0\n",
            "content 길이 제1사분위: 29.0\n",
            "content 길이 제3사분위: 64.0\n"
          ],
          "name": "stdout"
        }
      ]
    },
    {
      "cell_type": "code",
      "metadata": {
        "id": "XeLdaUv4gBnG"
      },
      "source": [
        "q1 = np.percentile(train_lenght,25)      # 1사분위수\r\n",
        "q2 = np.percentile(train_lenght,50)      # 2사분위수\r\n",
        "q3 = np.percentile(train_lenght,75)      # 3사분위수\r\n",
        "max = np.percentile(train_lenght,100)  # 최대값\r\n",
        "iqr = q3-q1\r\n",
        "uf = q3 + 1.5 * iqr"
      ],
      "execution_count": null,
      "outputs": []
    },
    {
      "cell_type": "code",
      "metadata": {
        "colab": {
          "base_uri": "https://localhost:8080/",
          "height": 342
        },
        "id": "VqYmsKQegDc3",
        "outputId": "c2bdcac1-78e6-427f-ce51-5c0df8f8f57d"
      },
      "source": [
        "plt.figure(figsize=(12,5))\r\n",
        "\r\n",
        "plt.boxplot(train_lenght, labels=['counts'],showmeans=True)\r\n",
        "plt.ylim([0,500])\r\n",
        "plt.text(0.85, train_lenght[train_lenght<uf].max(), train_lenght[train_lenght<uf].max())"
      ],
      "execution_count": null,
      "outputs": [
        {
          "output_type": "execute_result",
          "data": {
            "text/plain": [
              "Text(0.85, 116, '116')"
            ]
          },
          "metadata": {
            "tags": []
          },
          "execution_count": 16
        },
        {
          "output_type": "display_data",
          "data": {
            "image/png": "[encoded data removed]",
            "text/plain": [
              "<Figure size 864x360 with 1 Axes>"
            ]
          },
          "metadata": {
            "tags": [],
            "needs_background": "light"
          }
        }
      ]
    },
    {
      "cell_type": "code",
      "metadata": {
        "colab": {
          "base_uri": "https://localhost:8080/",
          "height": 298
        },
        "id": "Ve2aCSscgErr",
        "outputId": "73fb8e0b-adfa-4328-f0d0-b6f9963e1171"
      },
      "source": [
        "fig, axe = plt.subplots(ncols=1)\r\n",
        "fig.set_size_inches(6,3)\r\n",
        "sns.countplot(Train['info'])"
      ],
      "execution_count": null,
      "outputs": [
        {
          "output_type": "stream",
          "text": [
            "/usr/local/lib/python3.6/dist-packages/seaborn/_decorators.py:43: FutureWarning: Pass the following variable as a keyword arg: x. From version 0.12, the only valid positional argument will be `data`, and passing other arguments without an explicit keyword will result in an error or misinterpretation.\n",
            "  FutureWarning\n"
          ],
          "name": "stderr"
        },
        {
          "output_type": "execute_result",
          "data": {
            "text/plain": [
              "<matplotlib.axes._subplots.AxesSubplot at 0x7f1d28ef2080>"
            ]
          },
          "metadata": {
            "tags": []
          },
          "execution_count": 17
        },
        {
          "output_type": "display_data",
          "data": {
            "image/png": "[encoded data removed]",
            "text/plain": [
              "<Figure size 432x216 with 1 Axes>"
            ]
          },
          "metadata": {
            "tags": [],
            "needs_background": "light"
          }
        }
      ]
    },
    {
      "cell_type": "code",
      "metadata": {
        "id": "yKqtm3iOgHEO"
      },
      "source": [
        "train_word_counts = Train['content'].apply(lambda x:len(x.split(' ')))"
      ],
      "execution_count": null,
      "outputs": []
    },
    {
      "cell_type": "code",
      "metadata": {
        "colab": {
          "base_uri": "https://localhost:8080/",
          "height": 646
        },
        "id": "PLzsMcbygIqw",
        "outputId": "8ddddda5-2384-46b0-c396-6a3f29efbff5"
      },
      "source": [
        "plt.figure(figsize=(15, 10))\r\n",
        "plt.hist(train_word_counts, bins=50, facecolor='r', label='train')\r\n",
        "plt.title('Log-Histogram of word count in content', fontsize=15)\r\n",
        "plt.yscale('log', nonposy='clip')\r\n",
        "plt.legend()\r\n",
        "plt.xlabel('Number of words', fontsize=15)\r\n",
        "plt.ylabel('Number of contents', fontsize=15)"
      ],
      "execution_count": null,
      "outputs": [
        {
          "output_type": "execute_result",
          "data": {
            "text/plain": [
              "Text(0, 0.5, 'Number of contents')"
            ]
          },
          "metadata": {
            "tags": []
          },
          "execution_count": 19
        },
        {
          "output_type": "display_data",
          "data": {
            "image/png": "[encoded data removed]",
            "text/plain": [
              "<Figure size 1080x720 with 1 Axes>"
            ]
          },
          "metadata": {
            "tags": [],
            "needs_background": "light"
          }
        }
      ]
    },
    {
      "cell_type": "code",
      "metadata": {
        "colab": {
          "base_uri": "https://localhost:8080/",
          "height": 462
        },
        "id": "aYZmS-IVgJ3B",
        "outputId": "2f561452-a790-4146-d362-582c60814f67"
      },
      "source": [
        "plt.figure(figsize=(12,5))\r\n",
        "\r\n",
        "plt.ylim([0,150])\r\n",
        "plt.boxplot(train_word_counts, labels=['counts'],showmeans=True)"
      ],
      "execution_count": null,
      "outputs": [
        {
          "output_type": "execute_result",
          "data": {
            "text/plain": [
              "{'boxes': [<matplotlib.lines.Line2D at 0x7f1d27427c88>],\n",
              " 'caps': [<matplotlib.lines.Line2D at 0x7f1d274316d8>,\n",
              "  <matplotlib.lines.Line2D at 0x7f1d27431a58>],\n",
              " 'fliers': [<matplotlib.lines.Line2D at 0x7f1d274394e0>],\n",
              " 'means': [<matplotlib.lines.Line2D at 0x7f1d27439198>],\n",
              " 'medians': [<matplotlib.lines.Line2D at 0x7f1d27431dd8>],\n",
              " 'whiskers': [<matplotlib.lines.Line2D at 0x7f1d27427f98>,\n",
              "  <matplotlib.lines.Line2D at 0x7f1d27431358>]}"
            ]
          },
          "metadata": {
            "tags": []
          },
          "execution_count": 20
        },
        {
          "output_type": "display_data",
          "data": {
            "image/png": "[encoded data removed]",
            "text/plain": [
              "<Figure size 864x360 with 1 Axes>"
            ]
          },
          "metadata": {
            "tags": [],
            "needs_background": "light"
          }
        }
      ]
    },
    {
      "cell_type": "code",
      "metadata": {
        "id": "p9T1FNYWg3a9"
      },
      "source": [
        "avglist = []\r\n",
        "avg = 1\r\n",
        "for i in range(1, len(Train)):\r\n",
        "  if Train['ord'][i] == 1:\r\n",
        "    avglist.append(avg)\r\n",
        "    avg = 1\r\n",
        "  else:\r\n",
        "    avg += 1\r\n",
        "\r\n",
        "print('고유 title 개수 : ', Train['n_id'].nunique())\r\n",
        "print('한 title 당 content 최소 개수 : ', min(avglist))\r\n",
        "print('한 title 당 content 최대 개수 : ', max(avglist))\r\n",
        "print('한 title 당 content 평균 개수 : ', round(np.mean(avglist), 1))"
      ],
      "execution_count": null,
      "outputs": []
    },
    {
      "cell_type": "code",
      "metadata": {
        "id": "G5DyjTA7g3C6"
      },
      "source": [
        ""
      ],
      "execution_count": null,
      "outputs": []
    },
    {
      "cell_type": "code",
      "metadata": {
        "id": "0C434jtrgL1d"
      },
      "source": [
        "#title과 content를 구분자 공백으로 합친 뒤 content열에 삽입\r\n",
        "Train[\"content\"] = Train[\"title\"] + \" \" + Train[\"content\"]\r\n",
        "#사용하지 않는 열 n_id / title / date / ord 삭제\r\n",
        "df = Train.drop(['n_id','title','date','ord'], axis=1)\r\n",
        "#중복 행 제거\r\n",
        "df = df.drop_duplicates()"
      ],
      "execution_count": null,
      "outputs": []
    },
    {
      "cell_type": "code",
      "metadata": {
        "colab": {
          "base_uri": "https://localhost:8080/"
        },
        "id": "rTMzV7k-gPEk",
        "outputId": "3103c1e5-d8db-42ec-c052-3c18838f5ef4"
      },
      "source": [
        "print('중복 제거 전 개수: ', len(Train))\r\n",
        "print('중복 제거 후 개수: ', len(df))"
      ],
      "execution_count": null,
      "outputs": [
        {
          "output_type": "stream",
          "text": [
            "중복 제거 전 개수:  118745\n",
            "중복 제거 후 개수:  70982\n"
          ],
          "name": "stdout"
        }
      ]
    },
    {
      "cell_type": "code",
      "metadata": {
        "colab": {
          "base_uri": "https://localhost:8080/",
          "height": 298
        },
        "id": "FvcR6i88gSKB",
        "outputId": "310ee4f3-0342-436b-8352-9259902466ac"
      },
      "source": [
        "fig, axe = plt.subplots(ncols=1)\r\n",
        "fig.set_size_inches(6,3)\r\n",
        "sns.countplot(df['info'])"
      ],
      "execution_count": null,
      "outputs": [
        {
          "output_type": "stream",
          "text": [
            "/usr/local/lib/python3.6/dist-packages/seaborn/_decorators.py:43: FutureWarning: Pass the following variable as a keyword arg: x. From version 0.12, the only valid positional argument will be `data`, and passing other arguments without an explicit keyword will result in an error or misinterpretation.\n",
            "  FutureWarning\n"
          ],
          "name": "stderr"
        },
        {
          "output_type": "execute_result",
          "data": {
            "text/plain": [
              "<matplotlib.axes._subplots.AxesSubplot at 0x7f1d2671cf60>"
            ]
          },
          "metadata": {
            "tags": []
          },
          "execution_count": 23
        },
        {
          "output_type": "display_data",
          "data": {
            "image/png": "[encoded data removed]",
            "text/plain": [
              "<Figure size 432x216 with 1 Axes>"
            ]
          },
          "metadata": {
            "tags": [],
            "needs_background": "light"
          }
        }
      ]
    }
  ]
}